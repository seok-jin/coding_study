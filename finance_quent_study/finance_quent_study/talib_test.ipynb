{
 "metadata": {
  "language_info": {
   "codemirror_mode": {
    "name": "ipython",
    "version": 3
   },
   "file_extension": ".py",
   "mimetype": "text/x-python",
   "name": "python",
   "nbconvert_exporter": "python",
   "pygments_lexer": "ipython3",
   "version": "3.8.5"
  },
  "orig_nbformat": 2,
  "kernelspec": {
   "name": "python3",
   "display_name": "Python 3.8.5 64-bit ('base': conda)",
   "metadata": {
    "interpreter": {
     "hash": "61c0736e115877655d96e5cac599358ade349d90be5b961d5f76753eb05f6b7c"
    }
   }
  }
 },
 "nbformat": 4,
 "nbformat_minor": 2,
 "cells": [
  {
   "cell_type": "code",
   "execution_count": 300,
   "metadata": {},
   "outputs": [],
   "source": [
    "from datetime import date, datetime, timedelta\n",
    "import pandas as pd\n",
    "import pymysql\n",
    "import numpy as np\n",
    "from pykrx import stock\n",
    "from time import sleep\n",
    "\n",
    "ticker_count  = 0\n",
    "commit_count  = 0\n",
    "ticker_queue = []\n",
    "\n",
    "# Connect to the database\n",
    "connection = pymysql.connect(\n",
    "    user='seokjin', \n",
    "    passwd='1234', \n",
    "    host='3.36.94.44', \n",
    "    db='stock', \n",
    "    charset='utf8'\n",
    ")\n",
    "stock_lsits = ['KOSPI', 'KOSDAQ', 'ETF']\n",
    "cursor=connection.cursor()\n",
    "\n",
    "for stock_list in stock_lsits:\n",
    "    if stock_list != 'ETF':\n",
    "        tickers = stock.get_market_ticker_list(market=stock_list)\n",
    "    else:\n",
    "        tickers = stock.get_etf_ticker_list()\n",
    "\n",
    "\n",
    "    len_tickers = len(tickers)\n",
    "    tickers = np.array(tickers).reshape(len_tickers,-1)\n",
    "    ones = np.array([[stock_list,'Y',date.today().isoformat()]] * len_tickers)\n",
    "    tickers = np.append(tickers, ones, axis = 1)\n",
    "\n",
    "\n",
    "    commit_count = 0\n",
    "    ticker_count = 0\n",
    "\n",
    "\n",
    "    for ticker in tickers:\n",
    "        commit_count+=1\n",
    "        ticker_count+=1\n",
    "        ticker_queue.append(ticker.tolist())\n",
    "\n",
    "        if commit_count == 1000 or len_tickers == ticker_count:\n",
    "            cols = \"`,`\".join([str(i) for i in ['code', 'code_gbn', 'check_item', 'create_date']])\n",
    "            sql = \"INSERT INTO `stock_kospi` (`\" +cols + \"`) VALUES (\" + \"%s,\"*(ticker.shape[0]-1) + \"%s)  ON DUPLICATE KEY UPDATE update_date =\"+\"'\"+date.today().isoformat()+\"'\"\n",
    "            cursor.executemany(sql,ticker_queue)\n",
    "\n",
    "            connection.commit()\n",
    "            commit_count=0\n",
    "            ticker_queue = []\n",
    "\n",
    "\n",
    "cursor.close()\n",
    "\n"
   ]
  },
  {
   "cell_type": "code",
   "execution_count": 321,
   "metadata": {
    "tags": []
   },
   "outputs": [
    {
     "output_type": "error",
     "ename": "KeyError",
     "evalue": "1",
     "traceback": [
      "\u001b[0;31m---------------------------------------------------------------------------\u001b[0m",
      "\u001b[0;31mKeyError\u001b[0m                                  Traceback (most recent call last)",
      "\u001b[0;32m~/opt/anaconda3/lib/python3.8/site-packages/pandas/core/indexes/base.py\u001b[0m in \u001b[0;36mget_loc\u001b[0;34m(self, key, method, tolerance)\u001b[0m\n\u001b[1;32m   2894\u001b[0m             \u001b[0;32mtry\u001b[0m\u001b[0;34m:\u001b[0m\u001b[0;34m\u001b[0m\u001b[0;34m\u001b[0m\u001b[0m\n\u001b[0;32m-> 2895\u001b[0;31m                 \u001b[0;32mreturn\u001b[0m \u001b[0mself\u001b[0m\u001b[0;34m.\u001b[0m\u001b[0m_engine\u001b[0m\u001b[0;34m.\u001b[0m\u001b[0mget_loc\u001b[0m\u001b[0;34m(\u001b[0m\u001b[0mcasted_key\u001b[0m\u001b[0;34m)\u001b[0m\u001b[0;34m\u001b[0m\u001b[0;34m\u001b[0m\u001b[0m\n\u001b[0m\u001b[1;32m   2896\u001b[0m             \u001b[0;32mexcept\u001b[0m \u001b[0mKeyError\u001b[0m \u001b[0;32mas\u001b[0m \u001b[0merr\u001b[0m\u001b[0;34m:\u001b[0m\u001b[0;34m\u001b[0m\u001b[0;34m\u001b[0m\u001b[0m\n",
      "\u001b[0;32mpandas/_libs/index.pyx\u001b[0m in \u001b[0;36mpandas._libs.index.IndexEngine.get_loc\u001b[0;34m()\u001b[0m\n",
      "\u001b[0;32mpandas/_libs/index.pyx\u001b[0m in \u001b[0;36mpandas._libs.index.IndexEngine.get_loc\u001b[0;34m()\u001b[0m\n",
      "\u001b[0;32mpandas/_libs/hashtable_class_helper.pxi\u001b[0m in \u001b[0;36mpandas._libs.hashtable.PyObjectHashTable.get_item\u001b[0;34m()\u001b[0m\n",
      "\u001b[0;32mpandas/_libs/hashtable_class_helper.pxi\u001b[0m in \u001b[0;36mpandas._libs.hashtable.PyObjectHashTable.get_item\u001b[0;34m()\u001b[0m\n",
      "\u001b[0;31mKeyError\u001b[0m: 1",
      "\nThe above exception was the direct cause of the following exception:\n",
      "\u001b[0;31mKeyError\u001b[0m                                  Traceback (most recent call last)",
      "\u001b[0;32m<ipython-input-321-1efec1250824>\u001b[0m in \u001b[0;36m<module>\u001b[0;34m\u001b[0m\n\u001b[1;32m     24\u001b[0m \u001b[0;34m\u001b[0m\u001b[0m\n\u001b[1;32m     25\u001b[0m     \u001b[0;32mfor\u001b[0m \u001b[0mticker\u001b[0m \u001b[0;32min\u001b[0m \u001b[0mstock_lsits\u001b[0m\u001b[0;34m:\u001b[0m\u001b[0;34m\u001b[0m\u001b[0;34m\u001b[0m\u001b[0m\n\u001b[0;32m---> 26\u001b[0;31m         \u001b[0ma\u001b[0m\u001b[0;34m[\u001b[0m\u001b[0mticker\u001b[0m\u001b[0;34m]\u001b[0m \u001b[0;34m=\u001b[0m \u001b[0mdf\u001b[0m\u001b[0;34m[\u001b[0m\u001b[0mdf\u001b[0m\u001b[0;34m[\u001b[0m\u001b[0;36m1\u001b[0m\u001b[0;34m]\u001b[0m\u001b[0;34m==\u001b[0m\u001b[0mticker\u001b[0m\u001b[0;34m]\u001b[0m\u001b[0;34m\u001b[0m\u001b[0;34m\u001b[0m\u001b[0m\n\u001b[0m\u001b[1;32m     27\u001b[0m \u001b[0;34m\u001b[0m\u001b[0m\n\u001b[1;32m     28\u001b[0m \u001b[0;32mfinally\u001b[0m\u001b[0;34m:\u001b[0m\u001b[0;34m\u001b[0m\u001b[0;34m\u001b[0m\u001b[0m\n",
      "\u001b[0;32m~/opt/anaconda3/lib/python3.8/site-packages/pandas/core/frame.py\u001b[0m in \u001b[0;36m__getitem__\u001b[0;34m(self, key)\u001b[0m\n\u001b[1;32m   2900\u001b[0m             \u001b[0;32mif\u001b[0m \u001b[0mself\u001b[0m\u001b[0;34m.\u001b[0m\u001b[0mcolumns\u001b[0m\u001b[0;34m.\u001b[0m\u001b[0mnlevels\u001b[0m \u001b[0;34m>\u001b[0m \u001b[0;36m1\u001b[0m\u001b[0;34m:\u001b[0m\u001b[0;34m\u001b[0m\u001b[0;34m\u001b[0m\u001b[0m\n\u001b[1;32m   2901\u001b[0m                 \u001b[0;32mreturn\u001b[0m \u001b[0mself\u001b[0m\u001b[0;34m.\u001b[0m\u001b[0m_getitem_multilevel\u001b[0m\u001b[0;34m(\u001b[0m\u001b[0mkey\u001b[0m\u001b[0;34m)\u001b[0m\u001b[0;34m\u001b[0m\u001b[0;34m\u001b[0m\u001b[0m\n\u001b[0;32m-> 2902\u001b[0;31m             \u001b[0mindexer\u001b[0m \u001b[0;34m=\u001b[0m \u001b[0mself\u001b[0m\u001b[0;34m.\u001b[0m\u001b[0mcolumns\u001b[0m\u001b[0;34m.\u001b[0m\u001b[0mget_loc\u001b[0m\u001b[0;34m(\u001b[0m\u001b[0mkey\u001b[0m\u001b[0;34m)\u001b[0m\u001b[0;34m\u001b[0m\u001b[0;34m\u001b[0m\u001b[0m\n\u001b[0m\u001b[1;32m   2903\u001b[0m             \u001b[0;32mif\u001b[0m \u001b[0mis_integer\u001b[0m\u001b[0;34m(\u001b[0m\u001b[0mindexer\u001b[0m\u001b[0;34m)\u001b[0m\u001b[0;34m:\u001b[0m\u001b[0;34m\u001b[0m\u001b[0;34m\u001b[0m\u001b[0m\n\u001b[1;32m   2904\u001b[0m                 \u001b[0mindexer\u001b[0m \u001b[0;34m=\u001b[0m \u001b[0;34m[\u001b[0m\u001b[0mindexer\u001b[0m\u001b[0;34m]\u001b[0m\u001b[0;34m\u001b[0m\u001b[0;34m\u001b[0m\u001b[0m\n",
      "\u001b[0;32m~/opt/anaconda3/lib/python3.8/site-packages/pandas/core/indexes/base.py\u001b[0m in \u001b[0;36mget_loc\u001b[0;34m(self, key, method, tolerance)\u001b[0m\n\u001b[1;32m   2895\u001b[0m                 \u001b[0;32mreturn\u001b[0m \u001b[0mself\u001b[0m\u001b[0;34m.\u001b[0m\u001b[0m_engine\u001b[0m\u001b[0;34m.\u001b[0m\u001b[0mget_loc\u001b[0m\u001b[0;34m(\u001b[0m\u001b[0mcasted_key\u001b[0m\u001b[0;34m)\u001b[0m\u001b[0;34m\u001b[0m\u001b[0;34m\u001b[0m\u001b[0m\n\u001b[1;32m   2896\u001b[0m             \u001b[0;32mexcept\u001b[0m \u001b[0mKeyError\u001b[0m \u001b[0;32mas\u001b[0m \u001b[0merr\u001b[0m\u001b[0;34m:\u001b[0m\u001b[0;34m\u001b[0m\u001b[0;34m\u001b[0m\u001b[0m\n\u001b[0;32m-> 2897\u001b[0;31m                 \u001b[0;32mraise\u001b[0m \u001b[0mKeyError\u001b[0m\u001b[0;34m(\u001b[0m\u001b[0mkey\u001b[0m\u001b[0;34m)\u001b[0m \u001b[0;32mfrom\u001b[0m \u001b[0merr\u001b[0m\u001b[0;34m\u001b[0m\u001b[0;34m\u001b[0m\u001b[0m\n\u001b[0m\u001b[1;32m   2898\u001b[0m \u001b[0;34m\u001b[0m\u001b[0m\n\u001b[1;32m   2899\u001b[0m         \u001b[0;32mif\u001b[0m \u001b[0mtolerance\u001b[0m \u001b[0;32mis\u001b[0m \u001b[0;32mnot\u001b[0m \u001b[0;32mNone\u001b[0m\u001b[0;34m:\u001b[0m\u001b[0;34m\u001b[0m\u001b[0;34m\u001b[0m\u001b[0m\n",
      "\u001b[0;31mKeyError\u001b[0m: 1"
     ]
    }
   ],
   "source": [
    "from datetime import date, datetime, timedelta\n",
    "import pandas as pd\n",
    "import pymysql\n",
    "import numpy as np\n",
    "from pykrx import stock\n",
    "from time import sleep\n",
    "\n",
    "conn = pymysql.connect(\n",
    "    user='seokjin', \n",
    "    passwd='1234', \n",
    "    host='3.36.94.44', \n",
    "    db='stock', \n",
    "    charset='utf8'\n",
    ")\n",
    "a = {}\n",
    "stock_lsits = ['KOSPI', 'KOSDAQ', 'ETF']\n",
    "try:\n",
    "    curs = conn.cursor()\n",
    "    # sql = \"select * from stock_kospi a where not EXISTS (select 1 from (select DISTINCT code from daily_craw) b where a.code = b.code)and a.create_date = '2021-04-20' and a.code not in ('153130', '214980') \"\n",
    "    sel = \"select * from stock_kospi where code ='072470'\"\n",
    "    curs.execute(sql)\n",
    "    rs = curs.fetchall()\n",
    "    df = pd.DataFrame(rs)\n",
    "\n",
    "    for ticker in stock_lsits:\n",
    "        a[ticker] = df[df[1]==ticker]\n",
    "\n",
    "finally:\n",
    "    conn.close()\n",
    "\n",
    "stock_lsits = ['KOSPI', 'KOSDAQ', 'ETF']\n",
    "\n",
    "\n",
    "\n",
    "for j in stock_lsits:\n",
    "    for i in a[j][0]:\n",
    "        if j != 'ETF':\n",
    "            df = stock.get_market_ohlcv_by_date(\"19000101\",'20210420', i)\n",
    "        else :\n",
    "            print(i)\n",
    "            df = stock.get_etf_ohlcv_by_date(\"19000101\", \"20210420\", i)\n",
    "\n",
    "        df = change_df_to_array(df,i,j)\n",
    "        insert_daily_craw(df)\n",
    "   \n"
   ]
  },
  {
   "cell_type": "code",
   "execution_count": 266,
   "metadata": {},
   "outputs": [],
   "source": [
    "def db_con():\n",
    "    conn = pymysql.connect(\n",
    "            user='seokjin', \n",
    "            passwd='1234', \n",
    "            host='3.36.94.44', \n",
    "            db='stock', \n",
    "            charset='utf8'\n",
    "        )\n",
    "    return conn"
   ]
  },
  {
   "cell_type": "code",
   "execution_count": 373,
   "metadata": {},
   "outputs": [
    {
     "output_type": "stream",
     "name": "stdout",
     "text": [
      "2254\n"
     ]
    }
   ],
   "source": [
    "from datetime import date, datetime, timedelta\n",
    "import pandas as pd\n",
    "import pymysql\n",
    "import numpy as np\n",
    "from pykrx import stock\n",
    "a = {}\n",
    "# codes = ['049070','072470','036690','052330']\n",
    "code = '153130'\n",
    "date = date.today().isoformat()\n",
    "df1 = stock.get_market_ohlcv_by_date(\"19000101\", \"20210420\", code)\n",
    "df1 = change_df_to_array(df1,code,'KOSPI')\n",
    "print(len(df1))\n",
    "\n",
    "\n",
    "# insert_daily_craw(df1)\n",
    "\n",
    "\n"
   ]
  },
  {
   "cell_type": "code",
   "execution_count": 371,
   "metadata": {},
   "outputs": [],
   "source": [
    "insert_daily_craw(df1)"
   ]
  },
  {
   "cell_type": "code",
   "execution_count": 366,
   "metadata": {
    "tags": []
   },
   "outputs": [
    {
     "output_type": "execute_result",
     "data": {
      "text/plain": [
       "array(['1', '252670', '2021-04-20', '1950', '1955', '1915', '1920',\n",
       "       '158550775'], dtype='<U21')"
      ]
     },
     "metadata": {},
     "execution_count": 366
    }
   ],
   "source": [
    "df1[-1]"
   ]
  },
  {
   "cell_type": "code",
   "execution_count": 303,
   "metadata": {},
   "outputs": [],
   "source": [
    "def change_df_to_array(df, ticker_code, stock_lsits):\n",
    "    ticker_code_num = 0\n",
    "    if stock_lsits == 'KOSPI':\n",
    "        ticker_code_num = 1\n",
    "    elif stock_lsits == 'KOSDAQ':\n",
    "        ticker_code_num = 2\n",
    "    elif stock_lsits == 'ETF':\n",
    "        ticker_code_num = 3\n",
    "\n",
    "    gbn_code = 0\n",
    "    if ticker_code_num == 3:\n",
    "        gbn_code = 1\n",
    "    a = np.array([ticker_code_num, ticker_code]* len(df))\n",
    "    a = np.array(a).reshape(len(df),-1)\n",
    "    df['date'] = df.index.strftime('%Y-%m-%d')\n",
    "    # 일자, 종가4, 시가1, 고가2, 저가3, 거래량5\n",
    "    c =  np.array(df.values.tolist())[:,[-1,0+gbn_code,1+gbn_code,2+gbn_code,3+gbn_code,4+gbn_code]]\n",
    "    a = np.append(a,c , axis = 1)\n",
    "\n",
    "    return a"
   ]
  },
  {
   "cell_type": "code",
   "execution_count": 351,
   "metadata": {},
   "outputs": [],
   "source": [
    "def insert_daily_craw(df):\n",
    "    connection = db_con() \n",
    "    with connection.cursor() as cursor:\n",
    "\n",
    "        len_df = len(df)\n",
    "        ticker_count  = 0\n",
    "        commit_count  = 0\n",
    "        ticker_queue = []\n",
    "\n",
    "        for insert_df in df:\n",
    "            commit_count+=1\n",
    "            ticker_count+=1\n",
    "            ticker_queue.append(insert_df.tolist())\n",
    "\n",
    "            if  len_df == ticker_count:\n",
    "                cols = \"`,`\".join([str(i) for i in ['code_gbn', 'code', 'stock_date', 'stock_open','stock_high','stock_low','stock_close','volume']])\n",
    "\n",
    "                sql = \"INSERT INTO `daily_craw` (`\" +cols + \"`) VALUES (\" + \"%s,\"*(df.shape[1]-1) + \"%s)\"\n",
    "                cursor.executemany(sql,ticker_queue)\n",
    "\n",
    "                connection.commit()\n",
    "                commit_count=0\n",
    "                ticker_queue = []\n",
    "    connection.close()\n"
   ]
  },
  {
   "cell_type": "code",
   "execution_count": 249,
   "metadata": {
    "tags": []
   },
   "outputs": [
    {
     "output_type": "stream",
     "name": "stdout",
     "text": [
      "2754\n"
     ]
    },
    {
     "output_type": "error",
     "ename": "ValueError",
     "evalue": "The truth value of an array with more than one element is ambiguous. Use a.any() or a.all()",
     "traceback": [
      "\u001b[0;31m---------------------------------------------------------------------------\u001b[0m",
      "\u001b[0;31mValueError\u001b[0m                                Traceback (most recent call last)",
      "\u001b[0;32m<ipython-input-249-8c52d63c4c20>\u001b[0m in \u001b[0;36m<module>\u001b[0;34m\u001b[0m\n\u001b[1;32m     11\u001b[0m \u001b[0;31m# df1.head(3)\u001b[0m\u001b[0;34m\u001b[0m\u001b[0;34m\u001b[0m\u001b[0;34m\u001b[0m\u001b[0m\n\u001b[1;32m     12\u001b[0m \u001b[0mddd\u001b[0m \u001b[0;34m=\u001b[0m \u001b[0mchange_df_to_array\u001b[0m\u001b[0;34m(\u001b[0m\u001b[0mdf1\u001b[0m\u001b[0;34m,\u001b[0m\u001b[0;34m'122630'\u001b[0m\u001b[0;34m,\u001b[0m\u001b[0;34m'ETF'\u001b[0m\u001b[0;34m)\u001b[0m\u001b[0;34m\u001b[0m\u001b[0;34m\u001b[0m\u001b[0m\n\u001b[0;32m---> 13\u001b[0;31m \u001b[0minsert_daily_craw\u001b[0m\u001b[0;34m(\u001b[0m\u001b[0mddd\u001b[0m\u001b[0;34m)\u001b[0m\u001b[0;34m\u001b[0m\u001b[0;34m\u001b[0m\u001b[0m\n\u001b[0m",
      "\u001b[0;32m<ipython-input-248-d0562ccfccad>\u001b[0m in \u001b[0;36minsert_daily_craw\u001b[0;34m(df)\u001b[0m\n\u001b[1;32m     13\u001b[0m             \u001b[0mcols\u001b[0m \u001b[0;34m=\u001b[0m \u001b[0;34m\"`,`\"\u001b[0m\u001b[0;34m.\u001b[0m\u001b[0mjoin\u001b[0m\u001b[0;34m(\u001b[0m\u001b[0;34m[\u001b[0m\u001b[0mstr\u001b[0m\u001b[0;34m(\u001b[0m\u001b[0mi\u001b[0m\u001b[0;34m)\u001b[0m \u001b[0;32mfor\u001b[0m \u001b[0mi\u001b[0m \u001b[0;32min\u001b[0m \u001b[0;34m[\u001b[0m\u001b[0;34m'code_gbn'\u001b[0m\u001b[0;34m,\u001b[0m \u001b[0;34m'code'\u001b[0m\u001b[0;34m,\u001b[0m \u001b[0;34m'stock_date'\u001b[0m\u001b[0;34m,\u001b[0m \u001b[0;34m'stock_open'\u001b[0m\u001b[0;34m,\u001b[0m\u001b[0;34m'stock_high'\u001b[0m\u001b[0;34m,\u001b[0m\u001b[0;34m'stock_low'\u001b[0m\u001b[0;34m,\u001b[0m\u001b[0;34m'stock_close'\u001b[0m\u001b[0;34m,\u001b[0m\u001b[0;34m'volume'\u001b[0m\u001b[0;34m]\u001b[0m\u001b[0;34m]\u001b[0m\u001b[0;34m)\u001b[0m\u001b[0;34m\u001b[0m\u001b[0;34m\u001b[0m\u001b[0m\n\u001b[1;32m     14\u001b[0m             \u001b[0msql\u001b[0m \u001b[0;34m=\u001b[0m \u001b[0;34m\"INSERT INTO `daily_craw` (`\"\u001b[0m \u001b[0;34m+\u001b[0m\u001b[0mcols\u001b[0m \u001b[0;34m+\u001b[0m \u001b[0;34m\"`) VALUES (\"\u001b[0m \u001b[0;34m+\u001b[0m \u001b[0;34m\"%s,\"\u001b[0m\u001b[0;34m*\u001b[0m\u001b[0;34m(\u001b[0m\u001b[0mdf\u001b[0m\u001b[0;34m.\u001b[0m\u001b[0mshape\u001b[0m\u001b[0;34m[\u001b[0m\u001b[0;36m1\u001b[0m\u001b[0;34m]\u001b[0m\u001b[0;34m-\u001b[0m\u001b[0;36m1\u001b[0m\u001b[0;34m)\u001b[0m \u001b[0;34m+\u001b[0m \u001b[0;34m\"%s)\"\u001b[0m\u001b[0;34m\u001b[0m\u001b[0;34m\u001b[0m\u001b[0m\n\u001b[0;32m---> 15\u001b[0;31m             \u001b[0mcursor\u001b[0m\u001b[0;34m.\u001b[0m\u001b[0mexecutemany\u001b[0m\u001b[0;34m(\u001b[0m\u001b[0msql\u001b[0m\u001b[0;34m,\u001b[0m\u001b[0mdf\u001b[0m\u001b[0;34m)\u001b[0m\u001b[0;34m\u001b[0m\u001b[0;34m\u001b[0m\u001b[0m\n\u001b[0m\u001b[1;32m     16\u001b[0m             \u001b[0mconnection\u001b[0m\u001b[0;34m.\u001b[0m\u001b[0mcommit\u001b[0m\u001b[0;34m(\u001b[0m\u001b[0;34m)\u001b[0m\u001b[0;34m\u001b[0m\u001b[0;34m\u001b[0m\u001b[0m\n\u001b[1;32m     17\u001b[0m     \u001b[0;32mfinally\u001b[0m\u001b[0;34m:\u001b[0m\u001b[0;34m\u001b[0m\u001b[0;34m\u001b[0m\u001b[0m\n",
      "\u001b[0;32m~/opt/anaconda3/lib/python3.8/site-packages/pymysql/cursors.py\u001b[0m in \u001b[0;36mexecutemany\u001b[0;34m(self, query, args)\u001b[0m\n\u001b[1;32m    162\u001b[0m         \u001b[0mexecute\u001b[0m\u001b[0;34m(\u001b[0m\u001b[0;34m)\u001b[0m\u001b[0;34m.\u001b[0m\u001b[0;34m\u001b[0m\u001b[0;34m\u001b[0m\u001b[0m\n\u001b[1;32m    163\u001b[0m         \"\"\"\n\u001b[0;32m--> 164\u001b[0;31m         \u001b[0;32mif\u001b[0m \u001b[0;32mnot\u001b[0m \u001b[0margs\u001b[0m\u001b[0;34m:\u001b[0m\u001b[0;34m\u001b[0m\u001b[0;34m\u001b[0m\u001b[0m\n\u001b[0m\u001b[1;32m    165\u001b[0m             \u001b[0;32mreturn\u001b[0m\u001b[0;34m\u001b[0m\u001b[0;34m\u001b[0m\u001b[0m\n\u001b[1;32m    166\u001b[0m \u001b[0;34m\u001b[0m\u001b[0m\n",
      "\u001b[0;31mValueError\u001b[0m: The truth value of an array with more than one element is ambiguous. Use a.any() or a.all()"
     ]
    }
   ],
   "source": [
    "from datetime import date, datetime, timedelta\n",
    "import pandas as pd\n",
    "import pymysql\n",
    "import numpy as np\n",
    "from pykrx import stock\n",
    "\n",
    "code = '153130', '214980'\n",
    "date = date.today().isoformat()\n",
    "df1 = stock.get_etf_ohlcv_by_date(\"19000101\", \"20210420\", code)\n",
    "print(len(df1))\n",
    "# df1.head(3)\n",
    "ddd = change_df_to_array(df1,'122630','ETF')\n",
    "insert_daily_craw(ddd)"
   ]
  },
  {
   "cell_type": "code",
   "execution_count": null,
   "metadata": {},
   "outputs": [],
   "source": [
    "code_gbn int(1) not null comment '종목구분',\n",
    "code varchar(10) NOT NULL COMMENT '종목코드' ,\n",
    "stock_date date NOT NULL COMMENT '일자' ,\n",
    "stock_open int(16)  NOT NULL COMMENT '시가' ,\n",
    "stock_high int(16) NOT NULL  COMMENT '고가' ,\n",
    "stock_low int(16)  NOT NULL COMMENT '저가' ,\n",
    "stock_close int(16) NOT NULL  COMMENT '종가' ,\n",
    "volume int(16) NOT NULL COMMENT '거래량',"
   ]
  },
  {
   "cell_type": "code",
   "execution_count": 258,
   "metadata": {},
   "outputs": [
    {
     "output_type": "error",
     "ename": "TypeError",
     "evalue": "__init__() got an unexpected keyword argument 'use_pure'",
     "traceback": [
      "\u001b[0;31m---------------------------------------------------------------------------\u001b[0m",
      "\u001b[0;31mTypeError\u001b[0m                                 Traceback (most recent call last)",
      "\u001b[0;32m<ipython-input-258-73821d4f6487>\u001b[0m in \u001b[0;36m<module>\u001b[0;34m\u001b[0m\n\u001b[0;32m----> 1\u001b[0;31m conn = pymysql.connect(\n\u001b[0m\u001b[1;32m      2\u001b[0m     \u001b[0muser\u001b[0m\u001b[0;34m=\u001b[0m\u001b[0;34m'seokjin'\u001b[0m\u001b[0;34m,\u001b[0m\u001b[0;34m\u001b[0m\u001b[0;34m\u001b[0m\u001b[0m\n\u001b[1;32m      3\u001b[0m     \u001b[0mpasswd\u001b[0m\u001b[0;34m=\u001b[0m\u001b[0;34m'1234'\u001b[0m\u001b[0;34m,\u001b[0m\u001b[0;34m\u001b[0m\u001b[0;34m\u001b[0m\u001b[0m\n\u001b[1;32m      4\u001b[0m     \u001b[0mhost\u001b[0m\u001b[0;34m=\u001b[0m\u001b[0;34m'3.36.94.44'\u001b[0m\u001b[0;34m,\u001b[0m\u001b[0;34m\u001b[0m\u001b[0;34m\u001b[0m\u001b[0m\n\u001b[1;32m      5\u001b[0m     \u001b[0mdb\u001b[0m\u001b[0;34m=\u001b[0m\u001b[0;34m'stock'\u001b[0m\u001b[0;34m,\u001b[0m\u001b[0;34m\u001b[0m\u001b[0;34m\u001b[0m\u001b[0m\n",
      "\u001b[0;31mTypeError\u001b[0m: __init__() got an unexpected keyword argument 'use_pure'"
     ]
    }
   ],
   "source": [
    "conn = pymysql.connect(\n",
    "    user='seokjin', \n",
    "    passwd='1234', \n",
    "    host='3.36.94.44', \n",
    "    db='stock', \n",
    "    charset='utf8',\n",
    "    use_pure = True\n",
    ")"
   ]
  },
  {
   "cell_type": "code",
   "execution_count": 263,
   "metadata": {},
   "outputs": [],
   "source": [
    "conn = pymysql.connect(\n",
    "    user='seokjin', \n",
    "    passwd='1234', \n",
    "    host='3.36.94.44', \n",
    "    db='stock', \n",
    "    charset='utf8'\n",
    ")\n",
    "try:\n",
    "    curs = conn.cursor()\n",
    "    sql = \"show global variables like '%timeout%'\"\n",
    "    curs.execute(sql)\n",
    "    rs = curs.fetchall()\n",
    "    df = pd.DataFrame(rs)\n",
    "\n",
    "\n",
    "finally:\n",
    "    conn.close()"
   ]
  },
  {
   "cell_type": "code",
   "execution_count": 264,
   "metadata": {},
   "outputs": [
    {
     "output_type": "execute_result",
     "data": {
      "text/plain": [
       "                              0         1\n",
       "0               connect_timeout      3600\n",
       "1        delayed_insert_timeout      3600\n",
       "2        have_statement_timeout       YES\n",
       "3   innodb_flush_log_at_timeout         1\n",
       "4      innodb_lock_wait_timeout      3600\n",
       "5    innodb_rollback_on_timeout       OFF\n",
       "6           interactive_timeout     28800\n",
       "7             lock_wait_timeout  31536000\n",
       "8              net_read_timeout      3600\n",
       "9             net_write_timeout      3600\n",
       "10       rpl_stop_slave_timeout  31536000\n",
       "11            slave_net_timeout      3600\n",
       "12                 wait_timeout     28800"
      ],
      "text/html": "<div>\n<style scoped>\n    .dataframe tbody tr th:only-of-type {\n        vertical-align: middle;\n    }\n\n    .dataframe tbody tr th {\n        vertical-align: top;\n    }\n\n    .dataframe thead th {\n        text-align: right;\n    }\n</style>\n<table border=\"1\" class=\"dataframe\">\n  <thead>\n    <tr style=\"text-align: right;\">\n      <th></th>\n      <th>0</th>\n      <th>1</th>\n    </tr>\n  </thead>\n  <tbody>\n    <tr>\n      <th>0</th>\n      <td>connect_timeout</td>\n      <td>3600</td>\n    </tr>\n    <tr>\n      <th>1</th>\n      <td>delayed_insert_timeout</td>\n      <td>3600</td>\n    </tr>\n    <tr>\n      <th>2</th>\n      <td>have_statement_timeout</td>\n      <td>YES</td>\n    </tr>\n    <tr>\n      <th>3</th>\n      <td>innodb_flush_log_at_timeout</td>\n      <td>1</td>\n    </tr>\n    <tr>\n      <th>4</th>\n      <td>innodb_lock_wait_timeout</td>\n      <td>3600</td>\n    </tr>\n    <tr>\n      <th>5</th>\n      <td>innodb_rollback_on_timeout</td>\n      <td>OFF</td>\n    </tr>\n    <tr>\n      <th>6</th>\n      <td>interactive_timeout</td>\n      <td>28800</td>\n    </tr>\n    <tr>\n      <th>7</th>\n      <td>lock_wait_timeout</td>\n      <td>31536000</td>\n    </tr>\n    <tr>\n      <th>8</th>\n      <td>net_read_timeout</td>\n      <td>3600</td>\n    </tr>\n    <tr>\n      <th>9</th>\n      <td>net_write_timeout</td>\n      <td>3600</td>\n    </tr>\n    <tr>\n      <th>10</th>\n      <td>rpl_stop_slave_timeout</td>\n      <td>31536000</td>\n    </tr>\n    <tr>\n      <th>11</th>\n      <td>slave_net_timeout</td>\n      <td>3600</td>\n    </tr>\n    <tr>\n      <th>12</th>\n      <td>wait_timeout</td>\n      <td>28800</td>\n    </tr>\n  </tbody>\n</table>\n</div>"
     },
     "metadata": {},
     "execution_count": 264
    }
   ],
   "source": [
    "df"
   ]
  },
  {
   "cell_type": "code",
   "execution_count": 374,
   "metadata": {},
   "outputs": [
    {
     "output_type": "stream",
     "name": "stdout",
     "text": [
      "Collecting pyupbit\n",
      "  Downloading pyupbit-0.2.18-py3-none-any.whl (19 kB)\n",
      "Collecting websockets\n",
      "  Downloading websockets-9.0.1-cp38-cp38-macosx_10_9_x86_64.whl (88 kB)\n",
      "\u001b[K     |████████████████████████████████| 88 kB 1.4 MB/s \n",
      "\u001b[?25hCollecting pyjwt>=2.0.0\n",
      "  Downloading PyJWT-2.1.0-py3-none-any.whl (16 kB)\n",
      "Requirement already satisfied: requests in /Users/seokjinlim/opt/anaconda3/lib/python3.8/site-packages (from pyupbit) (2.24.0)\n",
      "Requirement already satisfied: pandas in /Users/seokjinlim/opt/anaconda3/lib/python3.8/site-packages (from pyupbit) (1.1.3)\n",
      "Requirement already satisfied: python-dateutil>=2.7.3 in /Users/seokjinlim/opt/anaconda3/lib/python3.8/site-packages (from pandas->pyupbit) (2.8.1)\n",
      "Requirement already satisfied: numpy>=1.15.4 in /Users/seokjinlim/opt/anaconda3/lib/python3.8/site-packages (from pandas->pyupbit) (1.19.2)\n",
      "Requirement already satisfied: pytz>=2017.2 in /Users/seokjinlim/opt/anaconda3/lib/python3.8/site-packages (from pandas->pyupbit) (2020.1)\n",
      "Requirement already satisfied: six>=1.5 in /Users/seokjinlim/opt/anaconda3/lib/python3.8/site-packages (from python-dateutil>=2.7.3->pandas->pyupbit) (1.15.0)\n",
      "Requirement already satisfied: chardet<4,>=3.0.2 in /Users/seokjinlim/opt/anaconda3/lib/python3.8/site-packages (from requests->pyupbit) (3.0.4)\n",
      "Requirement already satisfied: idna<3,>=2.5 in /Users/seokjinlim/opt/anaconda3/lib/python3.8/site-packages (from requests->pyupbit) (2.10)\n",
      "Requirement already satisfied: certifi>=2017.4.17 in /Users/seokjinlim/opt/anaconda3/lib/python3.8/site-packages (from requests->pyupbit) (2020.6.20)\n",
      "Requirement already satisfied: urllib3!=1.25.0,!=1.25.1,<1.26,>=1.21.1 in /Users/seokjinlim/opt/anaconda3/lib/python3.8/site-packages (from requests->pyupbit) (1.25.11)\n",
      "Installing collected packages: websockets, pyjwt, pyupbit\n",
      "Successfully installed pyjwt-2.1.0 pyupbit-0.2.18 websockets-9.0.1\n",
      "\u001b[33mWARNING: You are using pip version 21.0.1; however, version 21.1.1 is available.\n",
      "You should consider upgrading via the '/Users/seokjinlim/opt/anaconda3/bin/python -m pip install --upgrade pip' command.\u001b[0m\n",
      "Note: you may need to restart the kernel to use updated packages.\n"
     ]
    }
   ],
   "source": [
    "pip install pyupbitㅜ"
   ]
  },
  {
   "cell_type": "code",
   "execution_count": 375,
   "metadata": {},
   "outputs": [
    {
     "output_type": "stream",
     "name": "stdout",
     "text": [
      "<class 'pyupbit.exchange_api.Upbit'>\n"
     ]
    }
   ],
   "source": [
    "import pyupbit\n",
    "print(pyupbit.Upbit)"
   ]
  },
  {
   "cell_type": "code",
   "execution_count": 376,
   "metadata": {},
   "outputs": [
    {
     "output_type": "stream",
     "name": "stdout",
     "text": [
      "['KRW-BTC', 'KRW-ETH', 'BTC-ETH', 'BTC-LTC', 'BTC-XRP', 'BTC-ETC', 'BTC-OMG', 'BTC-CVC', 'BTC-DGB', 'BTC-SC', 'BTC-SNT', 'BTC-WAVES', 'BTC-NMR', 'BTC-XEM', 'BTC-LBC', 'BTC-QTUM', 'BTC-NXT', 'BTC-BAT', 'BTC-LSK', 'BTC-RDD', 'BTC-STEEM', 'BTC-DOGE', 'BTC-BNT', 'BTC-XLM', 'BTC-ARDR', 'BTC-KMD', 'BTC-ARK', 'BTC-ADX', 'BTC-SYS', 'BTC-ANT', 'BTC-STORJ', 'BTC-GRS', 'BTC-REP', 'BTC-RLC', 'BTC-EMC2', 'USDT-BTC', 'USDT-ETH', 'USDT-LTC', 'USDT-XRP', 'USDT-ETC', 'KRW-NEO', 'KRW-MTL', 'KRW-LTC', 'KRW-XRP', 'KRW-ETC', 'KRW-OMG', 'KRW-SNT', 'KRW-WAVES', 'KRW-XEM', 'KRW-QTUM', 'KRW-LSK', 'KRW-STEEM', 'KRW-XLM', 'KRW-ARDR', 'KRW-KMD', 'KRW-ARK', 'KRW-STORJ', 'KRW-GRS', 'KRW-REP', 'KRW-EMC2', 'KRW-ADA', 'BTC-ADA', 'BTC-MANA', 'USDT-OMG', 'KRW-SBD', 'BTC-SBD', 'BTC-RCN', 'KRW-POWR', 'BTC-POWR', 'KRW-BTG', 'USDT-ADA', 'BTC-DNT', 'BTC-IGNIS', 'BTC-ZRX', 'BTC-TRX', 'BTC-TUSD', 'BTC-LRC', 'KRW-ICX', 'KRW-EOS', 'BTC-DMT', 'USDT-TUSD', 'KRW-TRX', 'BTC-POLY', 'BTC-PRO', 'USDT-SC', 'USDT-TRX', 'KRW-SC', 'KRW-IGNIS', 'KRW-ONT', 'KRW-ZIL', 'KRW-POLY', 'KRW-ZRX', 'KRW-LOOM', 'BTC-BCH', 'USDT-BCH', 'KRW-BCH', 'BTC-MFT', 'BTC-LOOM', 'KRW-ADX', 'KRW-BAT', 'KRW-IOST', 'BTC-RFR', 'KRW-DMT', 'KRW-RFR', 'USDT-DGB', 'KRW-CVC', 'KRW-IQ', 'KRW-IOTA', 'BTC-RVN', 'BTC-BFT', 'BTC-GO', 'BTC-UPP', 'BTC-ENJ', 'KRW-MFT', 'BTC-EDR', 'KRW-ONG', 'KRW-GAS', 'BTC-MTL', 'KRW-UPP', 'KRW-ELF', 'USDT-DOGE', 'USDT-ZRX', 'USDT-RVN', 'USDT-BAT', 'KRW-KNC', 'BTC-PAX', 'BTC-MOC', 'BTC-ZIL', 'KRW-BSV', 'BTC-BSV', 'BTC-IOST', 'KRW-THETA', 'BTC-NCASH', 'KRW-EDR', 'BTC-DENT', 'KRW-QKC', 'BTC-ELF', 'KRW-BTT', 'BTC-BTT', 'BTC-VITE', 'BTC-IOTX', 'BTC-SOLVE', 'BTC-NKN', 'BTC-META', 'KRW-MOC', 'BTC-ANKR', 'BTC-CRO', 'KRW-ENJ', 'KRW-TFUEL', 'BTC-FSN', 'KRW-MANA', 'KRW-ANKR', 'BTC-ORBS', 'BTC-AERGO', 'BTC-PI', 'KRW-AERGO', 'KRW-ATOM', 'KRW-TT', 'KRW-CRE', 'KRW-SOLVE', 'BTC-ATOM', 'BTC-STPT', 'KRW-MBL', 'BTC-LAMB', 'BTC-EOS', 'BTC-LUNA', 'BTC-DAI', 'BTC-MKR', 'BTC-BORA', 'KRW-TSHP', 'BTC-TSHP', 'KRW-WAXP', 'BTC-WAXP', 'KRW-HBAR', 'KRW-MED', 'BTC-MED', 'BTC-MLK', 'KRW-MLK', 'BTC-PXL', 'KRW-STPT', 'BTC-VET', 'KRW-ORBS', 'BTC-CHZ', 'KRW-VET', 'BTC-FX', 'BTC-OGN', 'KRW-CHZ', 'KRW-PXL', 'BTC-ITAM', 'BTC-XTZ', 'BTC-HIVE', 'BTC-HBD', 'BTC-OBSR', 'BTC-DKA', 'KRW-STMX', 'BTC-STMX', 'BTC-AHT', 'BTC-PCI', 'BTC-RINGX', 'KRW-DKA', 'BTC-LINK', 'KRW-HIVE', 'KRW-KAVA', 'BTC-KAVA', 'KRW-AHT', 'KRW-LINK', 'KRW-XTZ', 'KRW-BORA', 'BTC-JST', 'BTC-CHR', 'BTC-DAD', 'BTC-TON', 'KRW-JST', 'BTC-CTSI', 'BTC-DOT', 'KRW-CRO', 'BTC-COMP', 'BTC-SXP', 'BTC-HUNT', 'KRW-TON', 'BTC-ONIT', 'BTC-CRV', 'BTC-ALGO', 'BTC-RSR', 'KRW-SXP', 'BTC-OXT', 'BTC-PLA', 'KRW-LAMB', 'KRW-HUNT', 'BTC-MARO', 'KRW-MARO', 'BTC-SAND', 'BTC-SUN', 'KRW-PLA', 'KRW-DOT', 'BTC-SRM', 'BTC-QTCON', 'BTC-MVL', 'KRW-SRM', 'KRW-MVL', 'BTC-GXC', 'KRW-PCI', 'BTC-AQT', 'BTC-AXS', 'BTC-STRAX', 'KRW-STRAX', 'KRW-AQT', 'BTC-BCHA', 'KRW-BCHA', 'BTC-GLM', 'KRW-GLM', 'KRW-QTCON', 'BTC-FCT2', 'BTC-SSX', 'KRW-SSX', 'KRW-META', 'KRW-OBSR', 'KRW-FCT2', 'BTC-FIL', 'KRW-LBC', 'BTC-UNI', 'BTC-BASIC', 'BTC-INJ', 'BTC-PROM', 'BTC-VAL', 'BTC-PSG', 'BTC-JUV', 'BTC-CBK', 'BTC-FOR', 'KRW-CBK', 'BTC-BFC', 'BTC-LINA', 'BTC-HUM', 'BTC-PICA', 'BTC-CELO', 'KRW-SAND', 'KRW-HUM', 'BTC-IQ', 'BTC-STX', 'KRW-DOGE', 'BTC-NEAR', 'BTC-AUCTION', 'BTC-DAWN', 'BTC-FLOW', 'BTC-STRK', 'KRW-STRK', 'BTC-PUNDIX', 'KRW-PUNDIX', 'KRW-FLOW', 'KRW-DAWN', 'KRW-AXS', 'KRW-STX', 'BTC-GRT', 'BTC-SNX']\n"
     ]
    }
   ],
   "source": [
    "tickers = pyupbit.get_tickers()\n",
    "print(tickers)"
   ]
  }
 ]
}