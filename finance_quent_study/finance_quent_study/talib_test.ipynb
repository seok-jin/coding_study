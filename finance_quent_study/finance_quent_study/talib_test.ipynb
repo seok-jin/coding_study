{
 "metadata": {
  "language_info": {
   "codemirror_mode": {
    "name": "ipython",
    "version": 3
   },
   "file_extension": ".py",
   "mimetype": "text/x-python",
   "name": "python",
   "nbconvert_exporter": "python",
   "pygments_lexer": "ipython3",
   "version": "3.7.6-final"
  },
  "orig_nbformat": 2,
  "kernelspec": {
   "name": "Python 3.7.6 64-bit ('base': conda)",
   "display_name": "Python 3.7.6 64-bit ('base': conda)",
   "metadata": {
    "interpreter": {
     "hash": "61c0736e115877655d96e5cac599358ade349d90be5b961d5f76753eb05f6b7c"
    }
   }
  }
 },
 "nbformat": 4,
 "nbformat_minor": 2,
 "cells": [
  {
   "cell_type": "code",
   "execution_count": 1,
   "metadata": {},
   "outputs": [],
   "source": [
    "import talib.abstract as ta\n",
    "import pandas as pd\n",
    "import numpy as np\n",
    "from pykrx import stock\n",
    "from datetime import date, datetime, timedelta"
   ]
  },
  {
   "cell_type": "code",
   "execution_count": 2,
   "metadata": {},
   "outputs": [
    {
     "output_type": "execute_result",
     "data": {
      "text/plain": [
       "               시가     고가     저가     종가       거래량\n",
       "날짜                                              \n",
       "2010-01-04  16060  16180  16000  16180    239271\n",
       "2010-01-05  16520  16580  16300  16440    559219\n",
       "2010-01-06  16580  16820  16520  16820    459755\n",
       "2010-01-07  16820  16820  16260  16260    443237\n",
       "2010-01-08  16400  16420  16120  16420    295798\n",
       "...           ...    ...    ...    ...       ...\n",
       "2021-02-19  82300  82800  81000  82600  25880879\n",
       "2021-02-22  83800  84200  82200  82200  25419886\n",
       "2021-02-23  81200  82900  81100  82000  20587314\n",
       "2021-02-24  81800  83600  81300  82000  26807651\n",
       "2021-02-25  84000  85400  83000  85300  34155986\n",
       "\n",
       "[2751 rows x 5 columns]"
      ],
      "text/html": "<div>\n<style scoped>\n    .dataframe tbody tr th:only-of-type {\n        vertical-align: middle;\n    }\n\n    .dataframe tbody tr th {\n        vertical-align: top;\n    }\n\n    .dataframe thead th {\n        text-align: right;\n    }\n</style>\n<table border=\"1\" class=\"dataframe\">\n  <thead>\n    <tr style=\"text-align: right;\">\n      <th></th>\n      <th>시가</th>\n      <th>고가</th>\n      <th>저가</th>\n      <th>종가</th>\n      <th>거래량</th>\n    </tr>\n    <tr>\n      <th>날짜</th>\n      <th></th>\n      <th></th>\n      <th></th>\n      <th></th>\n      <th></th>\n    </tr>\n  </thead>\n  <tbody>\n    <tr>\n      <th>2010-01-04</th>\n      <td>16060</td>\n      <td>16180</td>\n      <td>16000</td>\n      <td>16180</td>\n      <td>239271</td>\n    </tr>\n    <tr>\n      <th>2010-01-05</th>\n      <td>16520</td>\n      <td>16580</td>\n      <td>16300</td>\n      <td>16440</td>\n      <td>559219</td>\n    </tr>\n    <tr>\n      <th>2010-01-06</th>\n      <td>16580</td>\n      <td>16820</td>\n      <td>16520</td>\n      <td>16820</td>\n      <td>459755</td>\n    </tr>\n    <tr>\n      <th>2010-01-07</th>\n      <td>16820</td>\n      <td>16820</td>\n      <td>16260</td>\n      <td>16260</td>\n      <td>443237</td>\n    </tr>\n    <tr>\n      <th>2010-01-08</th>\n      <td>16400</td>\n      <td>16420</td>\n      <td>16120</td>\n      <td>16420</td>\n      <td>295798</td>\n    </tr>\n    <tr>\n      <th>...</th>\n      <td>...</td>\n      <td>...</td>\n      <td>...</td>\n      <td>...</td>\n      <td>...</td>\n    </tr>\n    <tr>\n      <th>2021-02-19</th>\n      <td>82300</td>\n      <td>82800</td>\n      <td>81000</td>\n      <td>82600</td>\n      <td>25880879</td>\n    </tr>\n    <tr>\n      <th>2021-02-22</th>\n      <td>83800</td>\n      <td>84200</td>\n      <td>82200</td>\n      <td>82200</td>\n      <td>25419886</td>\n    </tr>\n    <tr>\n      <th>2021-02-23</th>\n      <td>81200</td>\n      <td>82900</td>\n      <td>81100</td>\n      <td>82000</td>\n      <td>20587314</td>\n    </tr>\n    <tr>\n      <th>2021-02-24</th>\n      <td>81800</td>\n      <td>83600</td>\n      <td>81300</td>\n      <td>82000</td>\n      <td>26807651</td>\n    </tr>\n    <tr>\n      <th>2021-02-25</th>\n      <td>84000</td>\n      <td>85400</td>\n      <td>83000</td>\n      <td>85300</td>\n      <td>34155986</td>\n    </tr>\n  </tbody>\n</table>\n<p>2751 rows × 5 columns</p>\n</div>"
     },
     "metadata": {},
     "execution_count": 2
    }
   ],
   "source": [
    "stock.get_market_ohlcv_by_date('20100101', '20210225', '005930')"
   ]
  },
  {
   "cell_type": "code",
   "execution_count": null,
   "metadata": {},
   "outputs": [],
   "source": []
  }
 ]
}