{
 "cells": [
  {
   "cell_type": "code",
   "execution_count": 3,
   "id": "union-value",
   "metadata": {},
   "outputs": [],
   "source": [
    "import pandas as pd\n",
    "import numpy as np\n",
    "from pykrx import stock\n",
    "from datetime import date, datetime, timedelta"
   ]
  },
  {
   "cell_type": "code",
   "execution_count": 7,
   "id": "clean-pearl",
   "metadata": {},
   "outputs": [],
   "source": [
    "df1  = stock.get_market_ohlcv_by_date('20100101', '20210315', '005930')"
   ]
  },
  {
   "cell_type": "code",
   "execution_count": 8,
   "id": "narrative-hawaii",
   "metadata": {},
   "outputs": [
    {
     "data": {
      "text/plain": [
       "<bound method DataFrame.info of                시가     고가     저가     종가       거래량\n",
       "날짜                                              \n",
       "2010-01-04  16060  16180  16000  16180    239271\n",
       "2010-01-05  16520  16580  16300  16440    559219\n",
       "2010-01-06  16580  16820  16520  16820    459755\n",
       "2010-01-07  16820  16820  16260  16260    443237\n",
       "2010-01-08  16400  16420  16120  16420    295798\n",
       "...           ...    ...    ...    ...       ...\n",
       "2021-03-09  81400  81900  80600  81400  25420764\n",
       "2021-03-10  82400  82500  80700  80900  20038422\n",
       "2021-03-11  81000  82500  81000  82000  23818297\n",
       "2021-03-12  83100  83500  82400  82800  13530573\n",
       "2021-03-15  82800  82900  82100  82500   2960795\n",
       "\n",
       "[2762 rows x 5 columns]>"
      ]
     },
     "execution_count": 8,
     "metadata": {},
     "output_type": "execute_result"
    }
   ],
   "source": [
    "df1.info"
   ]
  },
  {
   "cell_type": "code",
   "execution_count": null,
   "id": "massive-hawaiian",
   "metadata": {},
   "outputs": [],
   "source": []
  }
 ],
 "metadata": {
  "kernelspec": {
   "display_name": "Python 3",
   "language": "python",
   "name": "python3"
  },
  "language_info": {
   "codemirror_mode": {
    "name": "ipython",
    "version": 3
   },
   "file_extension": ".py",
   "mimetype": "text/x-python",
   "name": "python",
   "nbconvert_exporter": "python",
   "pygments_lexer": "ipython3",
   "version": "3.8.5"
  }
 },
 "nbformat": 4,
 "nbformat_minor": 5
}
