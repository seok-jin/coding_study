{
 "metadata": {
  "language_info": {
   "codemirror_mode": {
    "name": "ipython",
    "version": 3
   },
   "file_extension": ".py",
   "mimetype": "text/x-python",
   "name": "python",
   "nbconvert_exporter": "python",
   "pygments_lexer": "ipython3",
   "version": "3.8.5-final"
  },
  "orig_nbformat": 2,
  "kernelspec": {
   "name": "python3",
   "display_name": "Python 3.8.5 64-bit ('anaconda3': virtualenv)",
   "metadata": {
    "interpreter": {
     "hash": "61c0736e115877655d96e5cac599358ade349d90be5b961d5f76753eb05f6b7c"
    }
   }
  }
 },
 "nbformat": 4,
 "nbformat_minor": 2,
 "cells": [
  {
   "cell_type": "code",
   "execution_count": 104,
   "metadata": {},
   "outputs": [],
   "source": [
    "import requests\n",
    "import json\n",
    "from pykrx import stock\n",
    "from datetime import date, datetime, timedelta\n",
    "import pandas as pd\n",
    "def post_message(channel, text): \n",
    "    SLACK_BOT_TOKEN = \"\"\n",
    "    headers = {\n",
    "        'Content-Type': 'application/json', \n",
    "        'Authorization': 'Bearer ' + SLACK_BOT_TOKEN\n",
    "        }\n",
    "    payload = {\n",
    "        'channel': channel,\n",
    "        'text': text\n",
    "        }\n",
    "    r = requests.post('https://slack.com/api/chat.postMessage', \n",
    "        headers=headers, \n",
    "        data=json.dumps(payload)\n",
    "        )\n",
    "to_day = date.today().isoformat().replace('-', '')\n",
    "df = stock.get_market_ohlcv_by_date(\"20210320\",to_day, \"252670\", \"d\")\n",
    "df = pd.DataFrame(df)\n",
    "text  = df.iloc[-1][3]\n",
    "text2 = int(text)*9466 - 21239545\n",
    "a = int(df.iloc[-1][3])\n",
    "b = int(df.iloc[-2][3])\n",
    "c = round((a - b) / a * 100,2)\n",
    "post_message(\"financefroject\", '현제가 :'+format(text, ',')+'원 ('+format(c, ',')+'%)'+ '\\n보유수량 :9,466주'+'\\n손익 :'+format(text2, ',')+'원')"
   ]
  },
  {
   "cell_type": "code",
   "execution_count": 103,
   "metadata": {},
   "outputs": [],
   "source": []
  },
  {
   "cell_type": "code",
   "execution_count": 85,
   "metadata": {},
   "outputs": [
    {
     "output_type": "stream",
     "name": "stdout",
     "text": [
      "2195\n2175\n"
     ]
    }
   ],
   "source": [
    "print(df.iloc[-1][3])\n",
    "print(df.iloc[-2][3] )"
   ]
  },
  {
   "cell_type": "code",
   "execution_count": 90,
   "metadata": {},
   "outputs": [
    {
     "output_type": "execute_result",
     "data": {
      "text/plain": [
       "0.91"
      ]
     },
     "metadata": {},
     "execution_count": 90
    }
   ],
   "source": [
    "a = int(df.iloc[-1][3])\n",
    "b = int(df.iloc[-2][3])\n",
    "c = round((a - b) / a * 100,2)"
   ]
  },
  {
   "cell_type": "code",
   "execution_count": 88,
   "metadata": {},
   "outputs": [
    {
     "output_type": "execute_result",
     "data": {
      "text/plain": [
       "0.009111617312072893"
      ]
     },
     "metadata": {},
     "execution_count": 88
    }
   ],
   "source": [
    "(2195 - 2175 ) /2195format(1493500, ',')"
   ]
  },
  {
   "cell_type": "code",
   "execution_count": 67,
   "metadata": {},
   "outputs": [
    {
     "output_type": "execute_result",
     "data": {
      "text/plain": [
       "              시가    고가    저가    종가        거래량\n",
       "날짜                                           \n",
       "2021-03-22  2130  2170  2115  2130  314860928\n",
       "2021-03-23  2105  2180  2095  2175  265538876\n",
       "2021-03-24  2200  2230  2175  2195  331042959"
      ],
      "text/html": "<div>\n<style scoped>\n    .dataframe tbody tr th:only-of-type {\n        vertical-align: middle;\n    }\n\n    .dataframe tbody tr th {\n        vertical-align: top;\n    }\n\n    .dataframe thead th {\n        text-align: right;\n    }\n</style>\n<table border=\"1\" class=\"dataframe\">\n  <thead>\n    <tr style=\"text-align: right;\">\n      <th></th>\n      <th>시가</th>\n      <th>고가</th>\n      <th>저가</th>\n      <th>종가</th>\n      <th>거래량</th>\n    </tr>\n    <tr>\n      <th>날짜</th>\n      <th></th>\n      <th></th>\n      <th></th>\n      <th></th>\n      <th></th>\n    </tr>\n  </thead>\n  <tbody>\n    <tr>\n      <th>2021-03-22</th>\n      <td>2130</td>\n      <td>2170</td>\n      <td>2115</td>\n      <td>2130</td>\n      <td>314860928</td>\n    </tr>\n    <tr>\n      <th>2021-03-23</th>\n      <td>2105</td>\n      <td>2180</td>\n      <td>2095</td>\n      <td>2175</td>\n      <td>265538876</td>\n    </tr>\n    <tr>\n      <th>2021-03-24</th>\n      <td>2200</td>\n      <td>2230</td>\n      <td>2175</td>\n      <td>2195</td>\n      <td>331042959</td>\n    </tr>\n  </tbody>\n</table>\n</div>"
     },
     "metadata": {},
     "execution_count": 67
    }
   ],
   "source": [
    "df"
   ]
  },
  {
   "cell_type": "code",
   "execution_count": 86,
   "metadata": {},
   "outputs": [
    {
     "output_type": "execute_result",
     "data": {
      "text/plain": [
       "0.911"
      ]
     },
     "metadata": {},
     "execution_count": 86
    }
   ],
   "source": [
    "round((int(df.iloc[-1][3]) - int(df.iloc[-2][3])) / int(df.iloc[-1][3]) * 100, 3)"
   ]
  },
  {
   "cell_type": "code",
   "execution_count": null,
   "metadata": {},
   "outputs": [],
   "source": []
  }
 ]
}