{
 "metadata": {
  "language_info": {
   "codemirror_mode": {
    "name": "ipython",
    "version": 3
   },
   "file_extension": ".py",
   "mimetype": "text/x-python",
   "name": "python",
   "nbconvert_exporter": "python",
   "pygments_lexer": "ipython3",
   "version": "3.8.5-final"
  },
  "orig_nbformat": 2,
  "kernelspec": {
   "name": "python3",
   "display_name": "Python 3",
   "language": "python"
  }
 },
 "nbformat": 4,
 "nbformat_minor": 2,
 "cells": [
  {
   "source": [
    "# 01. 웹 기본지식 이해하기\n",
    "## 01.개발자도구를 이용하여 웹 페이지 분석하기"
   ],
   "cell_type": "markdown",
   "metadata": {}
  },
  {
   "source": [
    "- get : 데이터를 URL에 포함하여 전달(주로 리스트 요청에 사용)\n",
    "- post : 데이터를 from 절에 넣어서 요청 (주로 로그인에 사용)\n",
    "\n",
    "\n",
    "## 02 request 모듈\n",
    "\n",
    "- requests 모듈을사용해서 url 주소를 통해 데이터를 가지고 오기\n",
    "\n",
    "1. http request/response를 위한 모듈 \n",
    "2. HTTP method를 메소드 명으로 사용하요 request 요청 예) get, post"
   ],
   "cell_type": "markdown",
   "metadata": {}
  },
  {
   "cell_type": "code",
   "execution_count": 3,
   "metadata": {},
   "outputs": [],
   "source": [
    "import requests\n",
    "url = 'https://news.v.daum.net/v/20190728165812603'"
   ]
  },
  {
   "source": [
    "**get 요청하기**\n",
    "\n",
    "1. http get 요청하기 \n",
    "2. post parameter 이용하여 데이터 전달하기 \n",
    "\n"
   ],
   "cell_type": "markdown",
   "metadata": {}
  },
  {
   "cell_type": "code",
   "execution_count": 6,
   "metadata": {},
   "outputs": [
    {
     "output_type": "execute_result",
     "data": {
      "text/plain": [
       "<Response [200]>"
      ]
     },
     "metadata": {},
     "execution_count": 6
    }
   ],
   "source": [
    "url = 'https://news.v.daum.net/v/20190728165812603'\n",
    "# url 을 requests 를 사용해 호출\n",
    "resp = requests.get(url)\n",
    "## 응답에 대한 결과 코드를 리턴\n",
    "resp"
   ]
  },
  {
   "source": [
    "** post 요청하기**\n",
    "\n",
    "1. http post 요청하기 \n",
    "2. post data 이용하여 데이터 전달하기 \n",
    "\n",
    "- 민감한 데이터, 일반적인 호출에는 사용하지 않는다.\n"
   ],
   "cell_type": "markdown",
   "metadata": {}
  },
  {
   "cell_type": "code",
   "execution_count": 7,
   "metadata": {},
   "outputs": [
    {
     "output_type": "execute_result",
     "data": {
      "text/plain": [
       "'\\n\\t\\t<script language=\"javascript\">\\n\\t\\t{\\n\\t\\t\\talert(\"ID가 잘못되었거나 비밀번호가 잘못되었습니다!\\\\n\\\\n다시 한번확인해 주세요!\");\\n\\t\\t\\thistory.back ();\\n\\t\\t}\\n\\t\\t</script>\\n'"
      ]
     },
     "metadata": {},
     "execution_count": 7
    }
   ],
   "source": [
    "url = 'https://www.kangcom.com/member/member_check.asp'\n",
    "data ={}\n",
    "data['id'] = 'hopesukjin'\n",
    "data['pwd'] = 'hero1018'\n",
    "resp = requests.post(url, data=data )\n",
    "resp.text\n"
   ]
  },
  {
   "source": [
    "**HTTP header 를 사용하기**\n",
    "\n",
    "1. header 데이터 구성하기 \n",
    "2. header 데이터 전달하기 "
   ],
   "cell_type": "markdown",
   "metadata": {}
  },
  {
   "cell_type": "code",
   "execution_count": 10,
   "metadata": {},
   "outputs": [
    {
     "output_type": "execute_result",
     "data": {
      "text/plain": [
       "<Response [200]>"
      ]
     },
     "metadata": {},
     "execution_count": 10
    }
   ],
   "source": [
    "url = 'https://news.v.daum.net/v/20190728165812603'\n",
    "\n",
    "headers = {\n",
    "    'user-agent' : 'Mozilla/5.0 (Windows NT 10.0; Win64; x64) AppleWebKit/537.36 (KHTML, like Gecko) Chrome/87.0.4280.88 Safari/537.36'\n",
    "}\n",
    "\n",
    "# url 을 requests 를 사용해 호출\n",
    "resp = requests.get(url, headers = headers)\n",
    "\n",
    "\n",
    "## 응답에 대한 결과 코드를 리턴\n",
    "resp"
   ]
  },
  {
   "source": [
    "**HTTP response 처리하기**\n",
    "\n",
    "1. response 객체 이해 \n",
    "2. status_code 확인하기 \n",
    "3. text 속성 확인하기"
   ],
   "cell_type": "markdown",
   "metadata": {}
  },
  {
   "cell_type": "code",
   "execution_count": 17,
   "metadata": {},
   "outputs": [
    {
     "output_type": "stream",
     "name": "stdout",
     "text": [
      "{'Date': 'Mon, 04 Jan 2021 11:18:54 GMT', 'Content-Type': 'text/html;charset=UTF-8', 'Transfer-Encoding': 'chunked', 'Connection': 'keep-alive', 'content-encoding': 'gzip', 'Strict-Transport-Security': 'max-age=15724800; includeSubDomains'}\n"
     ]
    }
   ],
   "source": [
    "url = 'https://news.v.daum.net/v/20190728165812603'\n",
    "resp = requests.get(url)\n",
    "resp.status_code #처리 상태 코드 결과에 대한 확인 \n",
    "if resp.status_code == 200:\n",
    "    print(resp.headers)\n",
    "else:\n",
    "    print('error')"
   ]
  },
  {
   "source": [
    "# 05.OPEM API 를 활용하여 json 데이터 추출하기(공공데이터 API)\n",
    "\n",
    "## 학습목표\n",
    "\n",
    "1. OPEN API 사용하여 데이터 획득하기 \n",
    "\n",
    "### 공공데이터 포털 OPEN API 사용하기 \n",
    "\n",
    "1. 공공데이터 포털 회원가입/로그인(https://www.data.go.kr)\n",
    "2. API 사용 요청 / 키 발급\n",
    "3. API 문서(specification) 확인 \n",
    "4. API 테스트 및 개발\n",
    "\n",
    " "
   ],
   "cell_type": "markdown",
   "metadata": {}
  },
  {
   "cell_type": "code",
   "execution_count": null,
   "metadata": {},
   "outputs": [],
   "source": []
  },
  {
   "cell_type": "code",
   "execution_count": 35,
   "metadata": {},
   "outputs": [
    {
     "output_type": "stream",
     "name": "stdout",
     "text": [
      "2021-01-04T20:46:33.928+09:00\n"
     ]
    }
   ],
   "source": [
    "service_key = 'cmxPflzAVt5XCVxFKYkc072MKZ%2FvUMUJrXYDseXYF%2BdonaFtl3AhIp853bj%2BE71r0%2Fbf7UcBfIK4ViQ5cGZ%2FSw%3D%3D'\n",
    "\n",
    "end_point = 'http://api.visitkorea.or.kr/openapi/service/rest/EngService/areaCode?serviceKey={}&numOfRows=10&pageSize=10&pageNo={}&MobileOS=ETC&MobileApp=AppTest&_type=json'.format(service_key, 1) \n",
    "\n",
    "resp = requests.get(end_point)\n",
    "\n",
    "# print(resp.status_code)\n",
    "# print(resp.text)\n",
    "# print(resp.json())\n",
    "\n",
    "data = resp.json()\n",
    "\n",
    "print(data['response']['header']['responseTime'])"
   ]
  },
  {
   "source": [
    "# 06. beautifulsoup 모듈 사용하여 HTML 파싱하기"
   ],
   "cell_type": "markdown",
   "metadata": {}
  },
  {
   "cell_type": "code",
   "execution_count": 37,
   "metadata": {},
   "outputs": [],
   "source": [
    "from bs4 import BeautifulSoup"
   ]
  },
  {
   "cell_type": "code",
   "execution_count": null,
   "metadata": {},
   "outputs": [],
   "source": [
    "supe = BeautifulSoup(html)\n",
    "supe.find('h3')\n",
    "supe.find('P') # 여러개 라면 가장 처음에 오는걸로 \n",
    "supe.find('div', custom = 'nice') # 테그에 속성을 추가하여 검색 \n",
    "attrs = { 'id' : 'upper', 'class':'test'}\n",
    "supe.find('div', attrs = attrs) # 복수의 조건 \n",
    "\n",
    "supe.find_all('div') # 여러게를 찾음 \n",
    "data = supe.find('h3')\n",
    "data.get_text() # value 값을 가지고옴 \n",
    "data['title'] # 속성값을 가지고옴 dict 타입으로 가지고 온다고 생각하면 편함"
   ]
  },
  {
   "source": [
    "# 07. id, class 속성을 이용하여 원하는 값 추출하기 "
   ],
   "cell_type": "markdown",
   "metadata": {}
  },
  {
   "cell_type": "code",
   "execution_count": 51,
   "metadata": {},
   "outputs": [
    {
     "output_type": "execute_result",
     "data": {
      "text/plain": [
       "<span class=\"txt_info\">이민우</span>"
      ]
     },
     "metadata": {},
     "execution_count": 51
    }
   ],
   "source": [
    "# 기자이름 뎃글 개수 등등 가지고 오기 \n",
    "from bs4 import BeautifulSoup\n",
    "\n",
    "url = 'https://news.v.daum.net/v/20190728165812603'\n",
    "\n",
    "resp = requests.get(url)\n",
    "\n",
    "soup = BeautifulSoup(resp.text)\n",
    "# data = soup.find('h3', class_ = 'tit_view')\n",
    "# data.get_text()\n",
    "\n",
    "info = soup.find('span', class_ = 'info_view')\n",
    "info.find('span', class_ = 'txt_info')\n",
    "# info.find('span', class_ = 'txt_info')"
   ]
  },
  {
   "cell_type": "code",
   "execution_count": 54,
   "metadata": {},
   "outputs": [
    {
     "output_type": "execute_result",
     "data": {
      "text/plain": [
       "'[아시아경제 이민우 기자] 일론 머스크 테슬라 최고경영자(CEO)가 자사 전기 자동차 모델에 넷플릭스와 유튜브 등 온라인동영상서비스(OTT)를 탑재할 것이라고 예고했다. 단순히 자율 주행 전기차가 단순히 주행을 위한 정보를 알려주는 것을 넘어 각종 영상 콘텐츠를 즐기는 공간으로도 확장하겠다는 전략으로 풀이된다.27일(현지시간) 더버지 등 주요 외신들에 따르면 머스크 CEO는 자신의 트위터를 통해 이 같은 계획을 밝혔다. 그는 \"자동차가 정차했을 때 넷플릭스와 유튜브를 감상할 수 있는 기능이 조만간 추가될 것\"이라며 \"편안한 좌석과 서라운드 사운드 오디오를 통해 영화관과 같은 느낌을 받을 수 있을 것\"이라고 강조했다.테슬라가 이처럼 콘텐츠 방면으로 확장하려 든 것은 이번이 처음이 아니다. 지난달 세계 최대 게임쇼 E3에서는 이미 운전자가 \\'폴아웃 쉘터\\'라는 게임을 할 수 있을 것이라고 발표한 바 있다. 이후에도 최근 게임업체 아타리사(社)의 자동차 경주 게임 ‘폴포지션’, 슈팅게임 ‘템페스트’, ‘미사일커맨드’ 등 고전 게임을 제공하기도 했다. 운전대로 게임을 조작하는 방식으로, 차가 주차돼 있을 경우에만 즐길 수 있다.이번 영상 콘텐츠는 주행 중에도 감상할 수 있도록 하는 방안을 고려하고 있다. 테슬라 측은 규제당국이 자율주행에 대해 완전히 승인하면 차량이 움직일 때에도 승객이 동영상을 즐길 수 있을 것이라고 설명했다.하지만 아직까지 자율주행차의 안전에 대한 우려는 완전히 걷혀지지 않은 상황이다. 지난 2017년 차량공유 서비스 우버의 자율주행 시범차량이 보행자와 충돌한 사고가 발생한 바 있다. 게다가 당시 시험 운전자는 디즈니의 동영상 스트리밍 서비스인 \\'훌루\\'를 이용하고 있던 것으로 밝혀졌다.이민우 기자 letzwin@asiae.co.kr'"
      ]
     },
     "metadata": {},
     "execution_count": 54
    }
   ],
   "source": [
    "# 본문 내용 가지고 오기 \n",
    "txt1 = soup.find('div', id = 'harmonyContainer')\n",
    "contents = ''\n",
    "for p in txt1.find_all('p'):\n",
    "    contents += p.get_text().strip()\n",
    "\n",
    "contents"
   ]
  },
  {
   "source": [
    "# 8.CSS 를 이용하여 원하는 값 추출하기\n",
    "\n",
    "- CSS를 이용하여 tag 찾기 \n",
    "    - select, select_one 함수 사용 \n",
    "    - css selector 사용법\n",
    "        - 태그명 찾기 tag\n",
    "        - 자손 태그 찾기 - 자손관계 (tag tag)\n",
    "        - 자식 태그 찾기 - 다이렉트 자식 관계(tag > tag)\n",
    "        - 아이디 찾기 #id\n",
    "        - 클래스 찾기 .class\n",
    "        - 속성값 찾기 [name = 'test']\n",
    "            - 속성값 prefix 찾기 [name ^='test']\n",
    "            - 속성값 suffix 찾기 [name $='test']\n",
    "            - 속성값 substring 찾기 [name *='test']\n",
    "        - n번째 자식 tag 찾기 :nth-chile(n)"
   ],
   "cell_type": "markdown",
   "metadata": {}
  },
  {
   "cell_type": "code",
   "execution_count": 55,
   "metadata": {},
   "outputs": [
    {
     "output_type": "execute_result",
     "data": {
      "text/plain": [
       "[<h3 class=\"tit_view\" data-translation=\"true\">일론머스크 \"테슬라에서 넷플릭스·유튜브 즐길 날 온다\"</h3>,\n",
       " <h3 class=\"tit_cp\">아시아경제 주요 뉴스<span class=\"info_cp\">해당 언론사로 연결됩니다.</span></h3>,\n",
       " <h3 class=\"txt_newsview\">많이본 뉴스</h3>,\n",
       " <h3 class=\"txt_newsview\">포토&amp;TV</h3>,\n",
       " <h3 class=\"txt_newsview\">이 시각 추천뉴스</h3>]"
      ]
     },
     "metadata": {},
     "execution_count": 55
    }
   ],
   "source": [
    "\n",
    "url = 'https://news.v.daum.net/v/20190728165812603'\n",
    "resp = requests.get(url)\n",
    "soup = BeautifulSoup(resp.text)\n",
    "\n",
    "supe.select('h3') # list type 으로 가지고 옴 "
   ]
  },
  {
   "cell_type": "code",
   "execution_count": 59,
   "metadata": {},
   "outputs": [
    {
     "output_type": "execute_result",
     "data": {
      "text/plain": [
       "[<h3 class=\"tit_view\" data-translation=\"true\">일론머스크 \"테슬라에서 넷플릭스·유튜브 즐길 날 온다\"</h3>]"
      ]
     },
     "metadata": {},
     "execution_count": 59
    }
   ],
   "source": [
    "supe.select('div#harmonyContainer') # div tag 이면서 id 가 harmonyContainer 인것 찾기\n",
    "\n",
    "supe.select('div#harmonyContainer p') # div tag 이면서 id 가 harmonyContainer 이고 하위에 p tag 를 찾기\n",
    "\n",
    "supe.select('h3.tit_view') # h3 tag 에 class 가 tit_view 인것을 가지고 오기 \n",
    "\n",
    "supe.select('.tit_view') # 모든 테그에서 class 가 tit_view 인것을 가지고 오기"
   ]
  },
  {
   "cell_type": "code",
   "execution_count": 60,
   "metadata": {},
   "outputs": [
    {
     "output_type": "execute_result",
     "data": {
      "text/plain": [
       "[<h3 class=\"tit_view\" data-translation=\"true\">일론머스크 \"테슬라에서 넷플릭스·유튜브 즐길 날 온다\"</h3>]"
      ]
     },
     "metadata": {},
     "execution_count": 60
    }
   ],
   "source": [
    "supe.select('h3[class = \"tit_view\"]')"
   ]
  },
  {
   "cell_type": "code",
   "execution_count": 63,
   "metadata": {},
   "outputs": [
    {
     "output_type": "execute_result",
     "data": {
      "text/plain": [
       "[<span class=\"txt_info\">이민우</span>,\n",
       " <span class=\"txt_info\">입력 <span class=\"num_date\">2019. 07. 28. 16:58</span></span>]"
      ]
     },
     "metadata": {},
     "execution_count": 63
    }
   ],
   "source": [
    "# 기자와 입력시간 \n",
    "supe.select('span.txt_info')"
   ]
  },
  {
   "source": [
    "# 9. 정규표현식을 이용하여 원하는 값 추출하기 "
   ],
   "cell_type": "markdown",
   "metadata": {}
  },
  {
   "cell_type": "code",
   "execution_count": 70,
   "metadata": {},
   "outputs": [
    {
     "output_type": "execute_result",
     "data": {
      "text/plain": [
       "'뉴스검색뉴스 메인메뉴IT일론머스크 \"테슬라에서 넷플릭스·유튜브 즐길 날 온다\"아시아경제 주요 뉴스해당 언론사로 연결됩니다.많이본 뉴스포토&TV이 시각 추천뉴스바로가기서비스 이용정보'"
      ]
     },
     "metadata": {},
     "execution_count": 70
    }
   ],
   "source": [
    "import re\n",
    "txt = soup.find_all(re.compile('h\\d'))\n",
    "txt2 = ''\n",
    "for i in txt:\n",
    "    txt2 += i.get_text().strip()\n",
    "\n",
    "txt2\n"
   ]
  },
  {
   "cell_type": "code",
   "execution_count": 75,
   "metadata": {},
   "outputs": [
    {
     "output_type": "execute_result",
     "data": {
      "text/plain": [
       "[<img alt=\"Daum\" class=\"thumb_g\" height=\"19\" src=\"//t1.daumcdn.net/media/news/news2016/retina/logo_daum.jpg\" width=\"45\"/>,\n",
       " <img alt=\"일론 머스크 테슬라 최고경영자(CEO) [이미지출처=로이터연합뉴스]\" class=\"thumb_g_article\" data-org-src=\"https://t1.daumcdn.net/news/201907/28/akn/20190728165813230vjsq.jpg\" data-org-width=\"550\" dmcf-mid=\"NBMY3ZZhN4\" dmcf-mtype=\"image\" height=\"auto\" src=\"https://img3.daumcdn.net/thumb/R658x0.q70/?fname=https://t1.daumcdn.net/news/201907/28/akn/20190728165813230vjsq.jpg\" width=\"658\"/>]"
      ]
     },
     "metadata": {},
     "execution_count": 75
    }
   ],
   "source": [
    "soup.find_all('img', attrs={'src': re.compile('.+\\.jpg')})\n",
    "## jpg 이미지만 가지고 오기 "
   ]
  },
  {
   "cell_type": "code",
   "execution_count": 76,
   "metadata": {},
   "outputs": [
    {
     "output_type": "execute_result",
     "data": {
      "text/plain": [
       "[<h3 class=\"tit_view\" data-translation=\"true\">일론머스크 \"테슬라에서 넷플릭스·유튜브 즐길 날 온다\"</h3>,\n",
       " <h3 class=\"txt_newsview\">많이본 뉴스</h3>,\n",
       " <h3 class=\"txt_newsview\">포토&amp;TV</h3>,\n",
       " <h3 class=\"txt_newsview\">이 시각 추천뉴스</h3>]"
      ]
     },
     "metadata": {},
     "execution_count": 76
    }
   ],
   "source": [
    "supe.find_all('h3', class_ = re.compile('.+view$'))"
   ]
  },
  {
   "cell_type": "code",
   "execution_count": null,
   "metadata": {},
   "outputs": [],
   "source": []
  }
 ]
}